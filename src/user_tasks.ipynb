{
 "cells": [
  {
   "cell_type": "markdown",
   "metadata": {},
   "source": [
    "# __User Tasks__\n",
    "The frontend will also handle a lot of validation and error handling, so pretend this is the best-case scenario. We can walk through the logical order of things on the frontend. "
   ]
  },
  {
   "cell_type": "code",
   "execution_count": 1,
   "metadata": {},
   "outputs": [],
   "source": [
    "# Setup \n",
    "\n",
    "import sys\n",
    "sys.path.append('/Users/geneva/Downloads/critics')\n",
    "import os\n",
    "from dotenv import load_dotenv\n",
    "import firebase_admin\n",
    "from firebase_admin import credentials\n",
    "\n",
    "import sys\n",
    "sys.path.append('/Users/geneva/Downloads/critics/utils')\n",
    "\n",
    "# Load environment variables from .env file\n",
    "load_dotenv()\n",
    "\n",
    "def initialize_firebase():\n",
    "    service_account_path = os.getenv('SERVICE_ACCOUNT_PATH')\n",
    "    database_url = os.getenv('DATABASE_URL')\n",
    "\n",
    "    if not service_account_path:\n",
    "        raise ValueError(\"SERVICE_ACCOUNT_PATH environment variable is not set.\")\n",
    "\n",
    "    if not firebase_admin._apps:  # Prevent duplicate initialization\n",
    "        cred = credentials.Certificate(service_account_path)\n",
    "        firebase_admin.initialize_app(cred, {\n",
    "            'databaseURL': database_url\n",
    "        })\n",
    "\n",
    "# Set the correct path to your service account JSON file\n",
    "os.environ['SERVICE_ACCOUNT_PATH'] = '/Users/geneva/Downloads/critics/gcreds_test.json'\n",
    "\n",
    "\n",
    "initialize_firebase()\n",
    "\n"
   ]
  },
  {
   "cell_type": "code",
   "execution_count": 2,
   "metadata": {},
   "outputs": [
    {
     "name": "stdout",
     "output_type": "stream",
     "text": [
      "Created new user: {'name': 'Geneva', 'boards': [], 'last_active': None}\n"
     ]
    }
   ],
   "source": [
    "# New user is created when they first open the app. \n",
    "\n",
    "\n",
    "from utils.user import create_user\n",
    "\n",
    "name = \"Geneva\"\n",
    "user_id = \"user_004\"  \n",
    "\n",
    "new_user = create_user(name, user_id)\n",
    "print(f\"Created new user: {new_user}\")"
   ]
  },
  {
   "cell_type": "code",
   "execution_count": 5,
   "metadata": {},
   "outputs": [
    {
     "ename": "ModuleNotFoundError",
     "evalue": "No module named 'utils'",
     "output_type": "error",
     "traceback": [
      "\u001b[0;31m---------------------------------------------------------------------------\u001b[0m",
      "\u001b[0;31mModuleNotFoundError\u001b[0m                       Traceback (most recent call last)",
      "Cell \u001b[0;32mIn[5], line 3\u001b[0m\n\u001b[1;32m      1\u001b[0m \u001b[38;5;66;03m# User creates a new board, and names it \"This is a test board\"\u001b[39;00m\n\u001b[0;32m----> 3\u001b[0m \u001b[38;5;28;01mfrom\u001b[39;00m \u001b[38;5;21;01mutils\u001b[39;00m\u001b[38;5;21;01m.\u001b[39;00m\u001b[38;5;21;01mboard\u001b[39;00m \u001b[38;5;28;01mimport\u001b[39;00m create_board\n\u001b[1;32m      6\u001b[0m board_id \u001b[38;5;241m=\u001b[39m \u001b[38;5;124m\"\u001b[39m\u001b[38;5;124mboard_001\u001b[39m\u001b[38;5;124m\"\u001b[39m  \n\u001b[1;32m      7\u001b[0m board_name \u001b[38;5;241m=\u001b[39m \u001b[38;5;124m\"\u001b[39m\u001b[38;5;124mGenny\u001b[39m\u001b[38;5;124m'\u001b[39m\u001b[38;5;124ms Board\u001b[39m\u001b[38;5;124m\"\u001b[39m\n",
      "\u001b[0;31mModuleNotFoundError\u001b[0m: No module named 'utils'"
     ]
    }
   ],
   "source": [
    "# User creates a new board, and names it \"This is a test board\"\n",
    "\n",
    "from utils.board import create_board\n",
    "\n",
    "\n",
    "board_id = \"board_001\"  \n",
    "board_name = \"Genny's Board\"\n",
    "\n",
    "#create the board \n",
    "new_board = create_board(board_id, board_name, user_id) # user_id from the prev. block\n",
    "\n",
    "print(f\"Created new board: {new_board}\")\n"
   ]
  },
  {
   "cell_type": "code",
   "execution_count": 12,
   "metadata": {},
   "outputs": [
    {
     "name": "stdout",
     "output_type": "stream",
     "text": [
      "User user_001 is now part of the following boards: ['board_001']\n"
     ]
    }
   ],
   "source": [
    "from utils.user import join_board\n",
    "# Assuming the necessary imports and setup have been done\n",
    "user_id = \"user_001\"\n",
    "board_code = \"board_001\"\n",
    "\n",
    "# Call the join_board function\n",
    "updated_boards = join_board(user_id, board_code)\n",
    "\n",
    "# Print the updated list of boards for confirmation\n",
    "print(f\"User {user_id} is now part of the following boards: {updated_boards}\")"
   ]
  },
  {
   "cell_type": "code",
   "execution_count": null,
   "metadata": {},
   "outputs": [],
   "source": []
  }
 ],
 "metadata": {
  "kernelspec": {
   "display_name": "Python 3",
   "language": "python",
   "name": "python3"
  },
  "language_info": {
   "codemirror_mode": {
    "name": "ipython",
    "version": 3
   },
   "file_extension": ".py",
   "mimetype": "text/x-python",
   "name": "python",
   "nbconvert_exporter": "python",
   "pygments_lexer": "ipython3",
   "version": "3.12.4"
  }
 },
 "nbformat": 4,
 "nbformat_minor": 2
}
