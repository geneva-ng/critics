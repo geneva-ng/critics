{
 "cells": [
  {
   "cell_type": "markdown",
   "metadata": {},
   "source": [
    "# __User Tasks__\n",
    "The frontend will also handle a lot of validation and error handling, so pretend this is the best-case scenario. We can walk through the logical order of things on the frontend. \n",
    "The frontend will also have to handle multi-user activity, but only in so far as what user_id variable is currently active, etc. Simple things. As long as Firebase functions can handle simultaneous activity, we're good. "
   ]
  },
  {
   "cell_type": "code",
   "execution_count": 1,
   "metadata": {},
   "outputs": [],
   "source": [
    "# Setup \n",
    "\n",
    "import os\n",
    "import sys\n",
    "from dotenv import load_dotenv\n",
    "from firebase_admin import credentials\n",
    "import firebase_admin\n",
    "\n",
    "# Add project root and utils to path\n",
    "sys.path.append('/Users/geneva/Downloads/critics')\n",
    "sys.path.append('/Users/geneva/Downloads/critics/utils')\n",
    "\n",
    "from utils.user import *\n",
    "from utils.board import *\n",
    "from utils.firebase import *\n",
    "from utils.restaurant import *\n",
    "from utils.category import *\n",
    "\n",
    "# Load environment variables\n",
    "load_dotenv()\n",
    "\n",
    "def initialize_firebase():\n",
    "    \"\"\"Initialize Firebase connection using credentials from environment\"\"\"\n",
    "    service_account_path = os.getenv('SERVICE_ACCOUNT_PATH')\n",
    "    database_url = os.getenv('DATABASE_URL')\n",
    "\n",
    "    if not service_account_path:\n",
    "        raise ValueError(\"SERVICE_ACCOUNT_PATH environment variable is not set.\")\n",
    "\n",
    "    if not firebase_admin._apps:\n",
    "        cred = credentials.Certificate(service_account_path)\n",
    "        firebase_admin.initialize_app(cred, {\n",
    "            'databaseURL': database_url\n",
    "        })\n",
    "\n",
    "# Set service account path and initialize\n",
    "os.environ['SERVICE_ACCOUNT_PATH'] = '/Users/geneva/Downloads/critics/gcreds_test.json'\n",
    "initialize_firebase()\n",
    "\n"
   ]
  },
  {
   "cell_type": "code",
   "execution_count": 4,
   "metadata": {},
   "outputs": [
    {
     "name": "stdout",
     "output_type": "stream",
     "text": [
      "Created new user: {'name': 'Geneva', 'boards': [], 'last_active': None}\n"
     ]
    }
   ],
   "source": [
    "# New user is created when they first open the app. \n",
    "\n",
    "name = \"Geneva\"\n",
    "user_id = \"user_001\"  \n",
    "\n",
    "new_user = create_user(name, user_id)\n",
    "print(f\"Created new user: {new_user}\")"
   ]
  },
  {
   "cell_type": "code",
   "execution_count": 7,
   "metadata": {},
   "outputs": [
    {
     "name": "stdout",
     "output_type": "stream",
     "text": [
      "Created new board: {'name': \"Genny's Board\", 'categories': {}, 'members': [], 'owner': 'user_001'}\n"
     ]
    }
   ],
   "source": [
    "# User creates a new board, and names it \"This is a test board\"\n",
    "\n",
    "board_id = \"board_001\"  \n",
    "board_name = \"Genny's Board\"\n",
    "\n",
    "#create the board \n",
    "new_board = create_board(board_id, board_name, user_id) # user_id from the prev. block\n",
    "\n",
    "# add the board to the user's boards\n",
    "updated_boards = join_board(user_id, board_id)\n",
    "\n",
    "# Add the user as a member of the board\n",
    "add_member_to_board(board_id, user_id)\n",
    "\n",
    "print(f\"Created new board: {new_board}\")\n"
   ]
  },
  {
   "cell_type": "code",
   "execution_count": 9,
   "metadata": {},
   "outputs": [
    {
     "name": "stdout",
     "output_type": "stream",
     "text": [
      "Created new user: {'name': 'Chris', 'boards': [], 'last_active': None}\n",
      "Added Chris to board: board_001\n"
     ]
    }
   ],
   "source": [
    "# New user is added, then joins the board. \n",
    "\n",
    "name = \"Chris\"\n",
    "user_id = \"user_002\"  \n",
    "\n",
    "new_user = create_user(name, user_id)\n",
    "print(f\"Created new user: {new_user}\")\n",
    "\n",
    "# Add this board to chris's boards\n",
    "updated_boards = join_board(user_id, board_id)  # board_id from previous cell\n",
    "\n",
    "# add chris to the list of board's members\n",
    "add_member_to_board(board_id, user_id)\n",
    "\n",
    "print(f\"Added {name} to board: {board_id}\")\n"
   ]
  },
  {
   "cell_type": "code",
   "execution_count": 2,
   "metadata": {},
   "outputs": [],
   "source": [
    "# Geneva adds a category to the board.\n",
    "\n",
    "board_id = \"board_001\" \n",
    "category_id = \"category_001\"\n",
    "category_name = \"Fine Dining\"\n",
    "caption = \"Can't tell if we go to dine, or to dress up.\"\n",
    "\n",
    "# create the category\n",
    "new_category = add_category(category_id, category_name, caption)\n",
    "\n",
    "# add the category to the board's list of categories\n",
    "add_category_to_board(board_id, category_id)"
   ]
  },
  {
   "cell_type": "code",
   "execution_count": 2,
   "metadata": {},
   "outputs": [],
   "source": [
    "# Geneva adds a restaurant to the board. \n",
    "\n",
    "category_id = \"category_001\" # Fine Dining \n",
    "restaurant_id = \"restaurant_001\" \n",
    "\n",
    "data = {\n",
    "    \"name\": \"The Modern\",\n",
    "    \"rating_1\": 9,\n",
    "    \"rating_2\": 8,\n",
    "    \"rating_3\": 7,\n",
    "    \"notes\": \"The food was good, but the service was a bit slow.\",\n",
    "    \"visits\": [\"2023-05-15\", \"2023-07-22\", \"2023-09-03\"],\n",
    "    \"location\": \"9 W 57th St, New York, NY 10019\",\n",
    "    \"dishes\": [\"Roasted Beet Salad\", \"Filet Mignon\", \"Chocolate Cake\"],\n",
    "    \"photo\": \"https://www.themodern.com/images/the-modern-restaurant-exterior.jpg\"\n",
    "}\n",
    "\n",
    "new_restaurant = add_restaurant(category_id, restaurant_id, data)"
   ]
  },
  {
   "cell_type": "code",
   "execution_count": 4,
   "metadata": {},
   "outputs": [],
   "source": [
    "# Chris adds a restaurant to the board. \n",
    "\n",
    "category_id = \"category_001\" # Fine Dining \n",
    "restaurant_id = \"restaurant_002\" \n",
    "\n",
    "data = {\n",
    "    \"name\": \"Le Bernardin\",\n",
    "    \"rating_1\": 9,\n",
    "    \"rating_2\": 8,\n",
    "    \"rating_3\": 7,\n",
    "    \"notes\": \"Exceptional seafood tasting menu. Service was impeccable.\",\n",
    "    \"visits\": [\"2023-08-12\"],\n",
    "    \"location\": \"155 W 51st St, New York, NY 10019\",\n",
    "    \"dishes\": [\"Tuna Tartare\", \"Lobster\", \"Chocolate-Olive Oil Dessert\"],\n",
    "    \"photo\": \"https://www.le-bernardin.com/uploads/images/gallery/exterior.jpg\"\n",
    "}\n",
    "\n",
    "new_restaurant = add_restaurant(category_id, restaurant_id, data)\n",
    "\n"
   ]
  },
  {
   "cell_type": "code",
   "execution_count": null,
   "metadata": {},
   "outputs": [],
   "source": []
  }
 ],
 "metadata": {
  "kernelspec": {
   "display_name": "Python 3",
   "language": "python",
   "name": "python3"
  },
  "language_info": {
   "codemirror_mode": {
    "name": "ipython",
    "version": 3
   },
   "file_extension": ".py",
   "mimetype": "text/x-python",
   "name": "python",
   "nbconvert_exporter": "python",
   "pygments_lexer": "ipython3",
   "version": "3.12.4"
  }
 },
 "nbformat": 4,
 "nbformat_minor": 2
}
