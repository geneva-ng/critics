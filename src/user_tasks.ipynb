{
 "cells": [
  {
   "cell_type": "markdown",
   "metadata": {},
   "source": [
    "# __User Tasks__\n",
    "The frontend will also handle a lot of validation and error handling, so pretend this is the best-case scenario. We can walk through the logical order of things on the frontend. \n",
    "The frontend will also have to handle multi-user activity, but only in so far as what user_id variable is currently active, etc. Simple things. As long as Firebase functions can handle simultaneous activity, we're good. "
   ]
  },
  {
   "cell_type": "code",
   "execution_count": 3,
   "metadata": {},
   "outputs": [],
   "source": [
    "# Set kernel to \"critics (Python 3.12.4)\"\n",
    "\n",
    "import os\n",
    "import sys\n",
    "from dotenv import load_dotenv\n",
    "from firebase_admin import credentials\n",
    "import firebase_admin\n",
    "\n",
    "# Add project root and utils to path\n",
    "sys.path.append('/Users/geneva/Downloads/PERSONAL/critics')\n",
    "# sys.path.append('/Users/geneva/Downloads/PERSONAL/critics/utils')\n",
    "\n",
    "from utils.user import *\n",
    "from utils.board import *\n",
    "from utils.firebase import *\n",
    "from utils.restaurant import *\n",
    "from utils.category import *\n",
    "\n",
    "# Load environment variables\n",
    "load_dotenv()\n",
    "\n",
    "def initialize_firebase():\n",
    "    \"\"\"Initialize Firebase connection using credentials from environment\"\"\"\n",
    "    service_account_path = os.getenv('SERVICE_ACCOUNT_PATH')\n",
    "    database_url = os.getenv('DATABASE_URL')\n",
    "\n",
    "    if not service_account_path:\n",
    "        raise ValueError(\"SERVICE_ACCOUNT_PATH environment variable is not set.\")\n",
    "\n",
    "    if not firebase_admin._apps:\n",
    "        cred = credentials.Certificate(service_account_path)\n",
    "        firebase_admin.initialize_app(cred, {\n",
    "            'databaseURL': database_url\n",
    "        })\n",
    "\n",
    "# Initialize\n",
    "initialize_firebase()"
   ]
  },
  {
   "cell_type": "markdown",
   "metadata": {},
   "source": [
    "# __Board and User Structure__"
   ]
  },
  {
   "cell_type": "code",
   "execution_count": 4,
   "metadata": {},
   "outputs": [
    {
     "name": "stdout",
     "output_type": "stream",
     "text": [
      "Created new user: {'name': 'Geneva', 'boards': [], 'last_active': None}\n"
     ]
    }
   ],
   "source": [
    "# New user is created when they first open the app. \n",
    "\n",
    "name = \"Geneva\"\n",
    "user_id = \"user_101\"  \n",
    "\n",
    "new_user = create_user(name, user_id)\n",
    "print(f\"Created new user: {new_user}\")"
   ]
  },
  {
   "cell_type": "code",
   "execution_count": 3,
   "metadata": {},
   "outputs": [
    {
     "ename": "ValueError",
     "evalue": "User user_001 is already a member of board board_001.",
     "output_type": "error",
     "traceback": [
      "\u001b[0;31m---------------------------------------------------------------------------\u001b[0m",
      "\u001b[0;31mValueError\u001b[0m                                Traceback (most recent call last)",
      "Cell \u001b[0;32mIn[3], line 14\u001b[0m\n\u001b[1;32m     11\u001b[0m updated_boards \u001b[38;5;241m=\u001b[39m add_board_to_user(user_id, board_id)\n\u001b[1;32m     13\u001b[0m \u001b[38;5;66;03m#2. Add the user as a member of the board\u001b[39;00m\n\u001b[0;32m---> 14\u001b[0m \u001b[43madd_user_to_board\u001b[49m\u001b[43m(\u001b[49m\u001b[43mboard_id\u001b[49m\u001b[43m,\u001b[49m\u001b[43m \u001b[49m\u001b[43muser_id\u001b[49m\u001b[43m)\u001b[49m\n\u001b[1;32m     16\u001b[0m \u001b[38;5;28mprint\u001b[39m(\u001b[38;5;124mf\u001b[39m\u001b[38;5;124m\"\u001b[39m\u001b[38;5;124mCreated new board: \u001b[39m\u001b[38;5;132;01m{\u001b[39;00mnew_board\u001b[38;5;132;01m}\u001b[39;00m\u001b[38;5;124m\"\u001b[39m)\n",
      "File \u001b[0;32m~/Downloads/PERSONAL/critics/utils/board.py:64\u001b[0m, in \u001b[0;36madd_user_to_board\u001b[0;34m(board_id, user_id)\u001b[0m\n\u001b[1;32m     62\u001b[0m     add_board_to_user(user_id, board_id)\n\u001b[1;32m     63\u001b[0m \u001b[38;5;28;01melse\u001b[39;00m:\n\u001b[0;32m---> 64\u001b[0m     \u001b[38;5;28;01mraise\u001b[39;00m \u001b[38;5;167;01mValueError\u001b[39;00m(\u001b[38;5;124mf\u001b[39m\u001b[38;5;124m\"\u001b[39m\u001b[38;5;124mUser \u001b[39m\u001b[38;5;132;01m{\u001b[39;00muser_id\u001b[38;5;132;01m}\u001b[39;00m\u001b[38;5;124m is already a member of board \u001b[39m\u001b[38;5;132;01m{\u001b[39;00mboard_id\u001b[38;5;132;01m}\u001b[39;00m\u001b[38;5;124m.\u001b[39m\u001b[38;5;124m\"\u001b[39m)\n",
      "\u001b[0;31mValueError\u001b[0m: User user_001 is already a member of board board_001."
     ]
    }
   ],
   "source": [
    "# User creates a new board, and names it \"This is a test board\"\n",
    "\n",
    "user_id = \"user_001\"\n",
    "board_id = \"board_001\"  \n",
    "board_name = \"Genny's Board\"\n",
    "\n",
    "# create the board \n",
    "new_board = create_board(board_id, board_name, user_id) # user_id from the prev. block\n",
    "\n",
    "#1. Add the board to the user's boards\n",
    "updated_boards = add_board_to_user(user_id, board_id)\n",
    "\n",
    "#2. Add the user as a member of the board\n",
    "add_user_to_board(board_id, user_id)\n",
    "\n",
    "print(f\"Created new board: {new_board}\")\n"
   ]
  },
  {
   "cell_type": "code",
   "execution_count": 9,
   "metadata": {},
   "outputs": [
    {
     "name": "stdout",
     "output_type": "stream",
     "text": [
      "Created new user: {'name': 'Chris', 'boards': [], 'last_active': None}\n",
      "Added Chris to board: board_001\n"
     ]
    }
   ],
   "source": [
    "# New user is added, then joins the board. \n",
    "\n",
    "name = \"Chris\"\n",
    "user_id = \"user_002\"  \n",
    "\n",
    "new_user = create_user(name, user_id)\n",
    "print(f\"Created new user: {new_user}\")\n",
    "\n",
    "#1. Add this board to chris's boards\n",
    "updated_boards = add_board_to_user(user_id, board_id)  # board_id from previous cell\n",
    "\n",
    "#2. Add chris to the list of board's members\n",
    "add_user_to_board(board_id, user_id)\n",
    "\n",
    "print(f\"Added {name} to board: {board_id}\")\n"
   ]
  },
  {
   "cell_type": "code",
   "execution_count": 6,
   "metadata": {},
   "outputs": [],
   "source": [
    "# Geneva adds a category to the board.\n",
    "\n",
    "board_id = \"board_001\" \n",
    "category_id = \"category_001\"\n",
    "category_name = \"Fine Dining\"\n",
    "caption = \"Can't tell if we go to dine, or to dress up.\"\n",
    "\n",
    "# create the category\n",
    "new_category = create_category(category_id, category_name, caption)\n",
    "\n",
    "# add the category to the board's list of categories\n",
    "link_category_to_board(board_id, category_id)"
   ]
  },
  {
   "cell_type": "code",
   "execution_count": 3,
   "metadata": {},
   "outputs": [],
   "source": [
    "# Geneva tries to delete Chris's board\n",
    "\n",
    "user_id = \"user_001\"\n",
    "board_id = \"board_001\"\n",
    "\n",
    "delete_board(board_id, user_id)\n"
   ]
  },
  {
   "cell_type": "code",
   "execution_count": 5,
   "metadata": {},
   "outputs": [],
   "source": [
    "# Chris leaves Genny's board\n",
    "\n",
    "user_id = \"user_002\"\n",
    "board_id = \"board_001\"\n",
    "\n",
    "remove_user_from_board(board_id, user_id)"
   ]
  },
  {
   "cell_type": "markdown",
   "metadata": {},
   "source": [
    "# __V1 Restaurant Structure__"
   ]
  },
  {
   "cell_type": "code",
   "execution_count": 2,
   "metadata": {},
   "outputs": [],
   "source": [
    "# Geneva adds a restaurant to the board. \n",
    "\n",
    "category_id = \"category_001\" # Fine Dining \n",
    "restaurant_id = \"restaurant_001\" \n",
    "\n",
    "data = {\n",
    "    \"name\": \"The Modern\",\n",
    "    \"rating_1\": 9,\n",
    "    \"rating_2\": 8,\n",
    "    \"rating_3\": 7,\n",
    "    \"notes\": \"The food was good, but the service was a bit slow.\",\n",
    "    \"visits\": [\"2023-05-15\", \"2023-07-22\", \"2023-09-03\"],\n",
    "    \"location\": \"9 W 57th St, New York, NY 10019\",\n",
    "    \"dishes\": [\"Roasted Beet Salad\", \"Filet Mignon\", \"Chocolate Cake\"],\n",
    "    \"photo\": \"https://www.themodern.com/images/the-modern-restaurant-exterior.jpg\"\n",
    "}\n",
    "\n",
    "new_restaurant = add_restaurant_to_category(category_id, restaurant_id, data)"
   ]
  },
  {
   "cell_type": "code",
   "execution_count": 4,
   "metadata": {},
   "outputs": [],
   "source": [
    "# Chris adds a restaurant to the board. \n",
    "\n",
    "category_id = \"category_001\" # Fine Dining \n",
    "restaurant_id = \"restaurant_002\" \n",
    "\n",
    "data = {\n",
    "    \"name\": \"Le Bernardin\",\n",
    "    \"rating_1\": 9,\n",
    "    \"rating_2\": 8,\n",
    "    \"rating_3\": 7,\n",
    "    \"notes\": \"Exceptional seafood tasting menu. Service was impeccable.\",\n",
    "    \"visits\": [\"2023-08-12\"],\n",
    "    \"location\": \"155 W 51st St, New York, NY 10019\",\n",
    "    \"dishes\": [\"Tuna Tartare\", \"Lobster\", \"Chocolate-Olive Oil Dessert\"],\n",
    "    \"photo\": \"https://www.le-bernardin.com/uploads/images/gallery/exterior.jpg\"\n",
    "}\n",
    "\n",
    "new_restaurant = add_restaurant_to_category(category_id, restaurant_id, data)\n",
    "\n"
   ]
  },
  {
   "cell_type": "code",
   "execution_count": 2,
   "metadata": {},
   "outputs": [
    {
     "data": {
      "text/plain": [
       "{'rating_1': 9.1}"
      ]
     },
     "execution_count": 2,
     "metadata": {},
     "output_type": "execute_result"
    }
   ],
   "source": [
    "# Chris changes a restaurant's rating. \n",
    "\n",
    "category_id = \"category_001\"\n",
    "restaurant_id = \"restaurant_001\"\n",
    "new_rating = 9.1\n",
    "\n",
    "edit_rating(category_id, restaurant_id, rating_1=new_rating)\n",
    "\n"
   ]
  },
  {
   "cell_type": "code",
   "execution_count": 5,
   "metadata": {},
   "outputs": [],
   "source": [
    "# Geneva adds another category\n",
    "\n",
    "board_id = \"board_001\"\n",
    "category_id = \"category_002\"\n",
    "name = \"Casual Dining\"\n",
    "caption = \"Just another weekend\"\n",
    "\n",
    "new_category = create_category(category_id, name, caption)\n",
    "link_category_to_board(board_id, category_id)\n"
   ]
  },
  {
   "cell_type": "code",
   "execution_count": 2,
   "metadata": {},
   "outputs": [],
   "source": [
    "# Geneva adds a dish from a restaurant. \n",
    "\n",
    "category_id = \"category_001\"\n",
    "restaurant_id = \"restaurant_001\"\n",
    "dish = \"Bipimbap\"\n",
    "\n",
    "add_dish(category_id, restaurant_id, dish)\n",
    "\n"
   ]
  },
  {
   "cell_type": "code",
   "execution_count": 3,
   "metadata": {},
   "outputs": [],
   "source": [
    "# She removes it \n",
    "\n",
    "category_id = \"category_001\"\n",
    "restaurant_id = \"restaurant_001\"\n",
    "dish = \"Bipimbap\"\n",
    "\n",
    "delete_dish(category_id, restaurant_id, dish)\n"
   ]
  },
  {
   "cell_type": "code",
   "execution_count": 4,
   "metadata": {},
   "outputs": [],
   "source": [
    "# Geneva switches a restaurant's category. \n",
    "\n",
    "old_category_id = \"category_001\"\n",
    "new_category_id = \"category_002\"\n",
    "restaurant_id = \"restaurant_001\"\n",
    "\n",
    "switch_restaurant_category(old_category_id, new_category_id, restaurant_id)"
   ]
  },
  {
   "cell_type": "markdown",
   "metadata": {},
   "source": [
    "# __V2 Restaurant Structure:__ Independent of category"
   ]
  },
  {
   "cell_type": "code",
   "execution_count": 2,
   "metadata": {},
   "outputs": [],
   "source": [
    "# testing new add restaurant function\n",
    "\n",
    "category_id = \"category_001\"\n",
    "restaurant_id = \"restaurant_003\"\n",
    "\n",
    "data = {\n",
    "    \"name\": \"The Modern\",\n",
    "    \"rating_1\": 9,\n",
    "    \"rating_2\": 8,\n",
    "    \"rating_3\": 7,\n",
    "    \"notes\": \"The food was good, but the service was a bit slow.\",\n",
    "    \"visits\": [\"2023-05-15\", \"2023-07-22\", \"2023-09-03\"],\n",
    "    \"location\": \"9 W 57th St, New York, NY 10019\",\n",
    "    \"dishes\": [\"Roasted Beet Salad\", \"Filet Mignon\", \"Chocolate Cake\"],\n",
    "    \"photo\": \"https://www.themodern.com/images/the-modern-restaurant-exterior.jpg\"\n",
    "}\n",
    "\n",
    "new_restaurant = add_restaurant_to_category(category_id, restaurant_id, data)"
   ]
  },
  {
   "cell_type": "code",
   "execution_count": 3,
   "metadata": {},
   "outputs": [
    {
     "data": {
      "text/plain": [
       "{'rating_1': 9.2}"
      ]
     },
     "execution_count": 3,
     "metadata": {},
     "output_type": "execute_result"
    }
   ],
   "source": [
    "# edit rating \n",
    "\n",
    "restaurant_id = \"restaurant_003\"\n",
    "new_rating = 9.2\n",
    "\n",
    "edit_rating(restaurant_id, 1, new_rating)"
   ]
  },
  {
   "cell_type": "code",
   "execution_count": 2,
   "metadata": {},
   "outputs": [
    {
     "data": {
      "text/plain": [
       "{'notes': 'The food was great, but the service was a bit slow.'}"
      ]
     },
     "execution_count": 2,
     "metadata": {},
     "output_type": "execute_result"
    }
   ],
   "source": [
    "# edit notes \n",
    "\n",
    "restaurant_id = \"restaurant_003\"\n",
    "new_notes = \"The food was great, but the service was a bit slow.\"\n",
    "\n",
    "edit_notes(restaurant_id, new_notes)"
   ]
  },
  {
   "cell_type": "code",
   "execution_count": 2,
   "metadata": {},
   "outputs": [
    {
     "data": {
      "text/plain": [
       "['2023-05-15', '2023-07-22', '2023-09-03', '2025-01-12']"
      ]
     },
     "execution_count": 2,
     "metadata": {},
     "output_type": "execute_result"
    }
   ],
   "source": [
    "# add visit \n",
    "\n",
    "restaurant_id = \"restaurant_003\"\n",
    "visit_date = \"2025-01-12\"\n",
    "\n",
    "add_visit(restaurant_id, visit_date)"
   ]
  },
  {
   "cell_type": "code",
   "execution_count": 3,
   "metadata": {},
   "outputs": [
    {
     "data": {
      "text/plain": [
       "['2023-05-15', '2023-07-22', '2023-09-03']"
      ]
     },
     "execution_count": 3,
     "metadata": {},
     "output_type": "execute_result"
    }
   ],
   "source": [
    "# delete visit \n",
    "\n",
    "restaurant_id = \"restaurant_003\"\n",
    "\n",
    "delete_visit(restaurant_id)"
   ]
  },
  {
   "cell_type": "code",
   "execution_count": 4,
   "metadata": {},
   "outputs": [
    {
     "data": {
      "text/plain": [
       "['Filet Mignon', 'Roasted Beet Salad', 'Chocolate Cake']"
      ]
     },
     "execution_count": 4,
     "metadata": {},
     "output_type": "execute_result"
    }
   ],
   "source": [
    "# edit dish ranking \n",
    "\n",
    "restaurant_id = \"restaurant_003\"\n",
    "new_dishes = [\"Filet Mignon\", \"Roasted Beet Salad\", \"Chocolate Cake\"]\n",
    "\n",
    "edit_dish_ranking(restaurant_id, new_dishes)"
   ]
  },
  {
   "cell_type": "code",
   "execution_count": 5,
   "metadata": {},
   "outputs": [
    {
     "data": {
      "text/plain": [
       "['Filet Mignon', 'Roasted Beet Salad', 'Chocolate Cake', 'Bipimbap']"
      ]
     },
     "execution_count": 5,
     "metadata": {},
     "output_type": "execute_result"
    }
   ],
   "source": [
    "# add dish \n",
    "\n",
    "restaurant_id = \"restaurant_003\"\n",
    "dish = \"Bipimbap\"\n",
    "\n",
    "add_dish(restaurant_id, dish)\n"
   ]
  },
  {
   "cell_type": "code",
   "execution_count": 6,
   "metadata": {},
   "outputs": [
    {
     "data": {
      "text/plain": [
       "['Filet Mignon', 'Roasted Beet Salad', 'Chocolate Cake']"
      ]
     },
     "execution_count": 6,
     "metadata": {},
     "output_type": "execute_result"
    }
   ],
   "source": [
    "# delete dish \n",
    "\n",
    "restaurant_id = \"restaurant_003\"\n",
    "dish = \"Bipimbap\"\n",
    "\n",
    "delete_dish(restaurant_id, dish)"
   ]
  },
  {
   "cell_type": "code",
   "execution_count": 4,
   "metadata": {},
   "outputs": [
    {
     "data": {
      "text/plain": [
       "{'category_code': 'category_002',\n",
       " 'dishes': ['Filet Mignon', 'Roasted Beet Salad', 'Chocolate Cake'],\n",
       " 'location': '9 W 57th St, New York, NY 10019',\n",
       " 'name': 'The Modern',\n",
       " 'notes': 'The food was great, but the service was a bit slow.',\n",
       " 'photo': 'https://www.themodern.com/images/the-modern-restaurant-exterior.jpg',\n",
       " 'rating_1': 9.2,\n",
       " 'rating_2': 8,\n",
       " 'rating_3': 7,\n",
       " 'visits': ['2023-05-15', '2023-07-22', '2023-09-03']}"
      ]
     },
     "execution_count": 4,
     "metadata": {},
     "output_type": "execute_result"
    }
   ],
   "source": [
    "# switch restaurant category \n",
    "\n",
    "new_category_id = \"category_002\"\n",
    "restaurant_id = \"restaurant_003\"\n",
    "\n",
    "switch_restaurant_category(restaurant_id, new_category_id)"
   ]
  },
  {
   "cell_type": "markdown",
   "metadata": {},
   "source": [
    "# __V3 Updates to Category Structure__"
   ]
  },
  {
   "cell_type": "code",
   "execution_count": 2,
   "metadata": {},
   "outputs": [],
   "source": [
    "# create new board \n",
    "\n",
    "board_id = \"board_001\"\n",
    "name = \"Genny's Board\"\n",
    "owner = \"user_001\"\n",
    "\n",
    "new_board = create_board(board_id, name, owner)\n"
   ]
  },
  {
   "cell_type": "code",
   "execution_count": 12,
   "metadata": {},
   "outputs": [],
   "source": [
    "# create new category \n",
    "\n",
    "board_id = \"board_001\"\n",
    "category_id = \"category_003\"\n",
    "name = \"Fast Food\"\n",
    "caption = \"Fast food is good food\"\n",
    "\n",
    "new_category = create_category(category_id, name, caption)\n",
    "link_category_to_board(board_id, category_id)"
   ]
  },
  {
   "cell_type": "code",
   "execution_count": 8,
   "metadata": {},
   "outputs": [],
   "source": [
    "# create new restaurant \n",
    "\n",
    "category_id = \"category_003\"\n",
    "restaurant_id = \"restaurant_004\"\n",
    "\n",
    "data = {\n",
    "    \"name\": \"The Modern\",\n",
    "    \"rating_1\": 9,\n",
    "    \"rating_2\": 8,\n",
    "    \"rating_3\": 7,\n",
    "    \"notes\": \"The food was good, but the service was a bit slow.\",\n",
    "    \"visits\": [\"2023-05-15\", \"2023-07-22\", \"2023-09-03\"],\n",
    "    \"location\": \"9 W 57th St, New York, NY 10019\",\n",
    "    \"dishes\": [\"Roasted Beet Salad\", \"Filet Mignon\", \"Chocolate Cake\"],\n",
    "    \"photo\": \"https://www.themodern.com/images/the-modern-restaurant-exterior.jpg\"\n",
    "}\n",
    "\n",
    "new_restaurant = create_restaurant(category_id, restaurant_id, data)"
   ]
  },
  {
   "cell_type": "code",
   "execution_count": 9,
   "metadata": {},
   "outputs": [],
   "source": [
    "# create another restaurant \n",
    "\n",
    "category_id = \"category_003\"\n",
    "restaurant_id = \"restaurant_005\"\n",
    "\n",
    "data = {\n",
    "    \"name\": \"The Modern\",\n",
    "    \"rating_1\": 9,\n",
    "    \"rating_2\": 8,\n",
    "    \"rating_3\": 7,\n",
    "    \"notes\": \"The food was good, but the service was a bit slow.\",\n",
    "    \"visits\": [\"2023-05-15\", \"2023-07-22\", \"2023-09-03\"],\n",
    "    \"location\": \"9 W 57th St, New York, NY 10019\",\n",
    "    \"dishes\": [\"Roasted Beet Salad\", \"Filet Mignon\", \"Chocolate Cake\"],\n",
    "    \"photo\": \"https://www.themodern.com/images/the-modern-restaurant-exterior.jpg\"\n",
    "}\n",
    "\n",
    "new_restaurant = create_restaurant(category_id, restaurant_id, data)"
   ]
  },
  {
   "cell_type": "code",
   "execution_count": 6,
   "metadata": {},
   "outputs": [],
   "source": [
    "# remove restaurant from category \n",
    "\n",
    "category_id = \"category_003\"\n",
    "restaurant_id = \"restaurant_004\"\n",
    "\n",
    "delete_restaurant(restaurant_id)"
   ]
  },
  {
   "cell_type": "code",
   "execution_count": 2,
   "metadata": {},
   "outputs": [],
   "source": [
    "# test delete category \n",
    "\n",
    "board_id = \"board_001\"\n",
    "category_id = \"category_003\"\n",
    "\n",
    "delete_category(category_id, board_id)"
   ]
  },
  {
   "cell_type": "code",
   "execution_count": 6,
   "metadata": {},
   "outputs": [],
   "source": [
    "# delete board \n",
    "\n",
    "user_id = \"user_001\"\n",
    "board_id = \"board_001\"\n",
    "\n",
    "delete_board(board_id, user_id)"
   ]
  },
  {
   "cell_type": "code",
   "execution_count": 2,
   "metadata": {},
   "outputs": [],
   "source": [
    "# create a new user, properly:\n",
    "\n",
    "name = \"Chris\"\n",
    "user_id = \"user_002\"\n",
    "\n",
    "new_user = create_user(name, user_id)\n"
   ]
  },
  {
   "cell_type": "code",
   "execution_count": 4,
   "metadata": {},
   "outputs": [],
   "source": [
    "# add chris to board\n",
    "\n",
    "user_id = \"user_002\"\n",
    "board_id = \"board_001\"\n",
    "\n",
    "add_user_to_board(board_id, user_id)\n"
   ]
  },
  {
   "cell_type": "code",
   "execution_count": 5,
   "metadata": {},
   "outputs": [],
   "source": [
    "# chris deletes himself as a user\n",
    "\n",
    "user_id = \"user_002\"\n",
    "board_id = \"board_001\"\n",
    "\n",
    "delete_user(user_id)\n"
   ]
  },
  {
   "cell_type": "code",
   "execution_count": 2,
   "metadata": {},
   "outputs": [],
   "source": [
    "# a new user comes in and creates a new board. \n",
    "\n",
    "name = \"jay\"\n",
    "user_id = \"user_003\"\n",
    "\n",
    "new_user = create_user(name, user_id)\n",
    "\n",
    "# create a new board \n",
    "\n",
    "board_id = \"board_002\"\n",
    "name = \"Jay's Board\"\n",
    "owner = \"user_003\"\n",
    "\n",
    "new_board = create_board(board_id, name, owner)"
   ]
  },
  {
   "cell_type": "code",
   "execution_count": 3,
   "metadata": {},
   "outputs": [],
   "source": [
    "# jay deletes himself as a user\n",
    "\n",
    "user_id = \"user_003\"\n",
    "\n",
    "delete_user(user_id)"
   ]
  },
  {
   "cell_type": "markdown",
   "metadata": {},
   "source": [
    "# __Testing Category Edit Functions__"
   ]
  },
  {
   "cell_type": "code",
   "execution_count": 2,
   "metadata": {},
   "outputs": [],
   "source": [
    "# edit category name \n",
    "\n",
    "category_id = \"category_003\"\n",
    "new_name = \"Fine Dining\"\n",
    "caption = \"Can't tell if we go to dine, or to dress up.\"\n",
    "\n",
    "edit_category_name_caption(category_id, new_name, caption)"
   ]
  },
  {
   "cell_type": "code",
   "execution_count": null,
   "metadata": {},
   "outputs": [],
   "source": []
  }
 ],
 "metadata": {
  "kernelspec": {
   "display_name": "Python 3",
   "language": "python",
   "name": "python3"
  },
  "language_info": {
   "codemirror_mode": {
    "name": "ipython",
    "version": 3
   },
   "file_extension": ".py",
   "mimetype": "text/x-python",
   "name": "python",
   "nbconvert_exporter": "python",
   "pygments_lexer": "ipython3",
   "version": "3.12.4"
  }
 },
 "nbformat": 4,
 "nbformat_minor": 2
}
